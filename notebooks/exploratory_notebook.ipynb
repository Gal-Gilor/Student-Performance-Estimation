{
 "cells": [
  {
   "cell_type": "markdown",
   "id": "e2e432f2",
   "metadata": {},
   "source": [
    "# Data Exploration & Cleaning\n",
    "\n",
    "\n",
    "|Num|Field|Description|\n",
    "|---|-----|----------|\n",
    "|1 | school | student's school (binary: \"GP\" - Gabriel Pereira or \"MS\" - Mousinho da Silveira) |\n",
    "|2 | sex | student's sex (binary: \"F\" - female or \"M\" - male)|\n",
    "|3 | age | student's age (numeric: from 15 to 22) |\n",
    "|4 | address | student's home address type (binary: \"U\" - urban or \"R\" - rural) |\n",
    "|5 | famsize | family size (binary: \"LE3\" - less or equal to 3 or \"GT3\" - greater than 3) |\n",
    "|6 | Pstatus | parent's cohabitation status (binary: \"T\" - living together or \"A\" - apart)|\n",
    "|7 | Medu | mother's education (numeric: 0 - none,  1 - primary education (4th grade), 2 – 5th to 9th grade, 3 – secondary education or 4 – higher education) |\n",
    "|8 | Fedu | father's education (numeric: 0 - none,  1 - primary education (4th grade), 2 – 5th to 9th grade, 3 – secondary education or 4 – higher education) |\n",
    "|9 | Mjob | mother's job (nominal: \"teacher\", \"health\" care related, civil \"services\" (e.g. administrative or police), \"at_home\" or \"other\")|\n",
    "|10| Fjob | father's job (nominal: \"teacher\", \"health\" care related, civil \"services\" (e.g. administrative or police), \"at_home\" or \"other\")|\n",
    "|11 | reason | reason to choose this school (nominal: close to \"home\", school \"reputation\", \"course\" preference or \"other\")|\n",
    "|12 | guardian | student's guardian (nominal: \"mother\", \"father\" or \"other\")|\n",
    "|13 | traveltime | home to school travel time (numeric: 1 - <15 min., 2 - 15 to 30 min., 3 - 30 min. to 1 hour, or 4 - >1 hour)|\n",
    "|14 | studytime | weekly study time (numeric: 1 - <2 hours, 2 - 2 to 5 hours, 3 - 5 to 10 hours, or 4 - >10 hours)|\n",
    "|15 | failures | number of past class failures (numeric: n if 1<=n<3, else 4)|\n",
    "|16 | schoolsup | extra educational support (binary: yes or no)|\n",
    "|17 | famsup | family educational support (binary: yes or no)|\n",
    "|18 | paid | extra paid classes within the course subject (Math or Portuguese) (binary: yes or no)|\n",
    "|19 | activities | extra-curricular activities (binary: yes or no)|\n",
    "|20 | nursery | attended nursery school (binary: yes or no)|\n",
    "|21 | higher | wants to take higher education (binary: yes or no)|\n",
    "|22 | internet | Internet access at home (binary: yes or no)|\n",
    "|23 | romantic | with a romantic relationship (binary: yes or no)|\n",
    "|24 | famrel | quality of family relationships (numeric: from 1 - very bad to 5 - excellent)|\n",
    "|25 | freetime | free time after school (numeric: from 1 - very low to 5 - very high)|\n",
    "|26 | goout | going out with friends (numeric: from 1 - very low to 5 - very high)|\n",
    "|27 | Dalc | workday alcohol consumption (numeric: from 1 - very low to 5 - very high)|\n",
    "|28 | Walc | weekend alcohol consumption (numeric: from 1 - very low to 5 - very high)|\n",
    "|29 | health | current health status (numeric: from 1 - very bad to 5 - very good)|\n",
    "|30 | absences | number of school absences (numeric: from 0 to 93)|\n",
    "|31 | G1 | first period grade (numeric: from 0 to 20) |\n",
    "|31 | G2 | second period grade (numeric: from 0 to 20) |\n",
    "|32 | G3 | final grade (numeric: from 0 to 20, output target)\n",
    "\n",
    "\n",
    "* Note - Lots of ordinal variables. Estimates of conditional probabilities rather than conditional means."
   ]
  },
  {
   "cell_type": "code",
   "execution_count": 78,
   "id": "fb7788ee",
   "metadata": {},
   "outputs": [],
   "source": [
    "import os\n",
    "import pandas as pd\n",
    "import numpy as np\n",
    "import matplotlib.pyplot as plt\n",
    "import scipy.stats as sps\n",
    "import seaborn as sns\n",
    "from typing import Union, Dict, Optional, List\n",
    "\n",
    "%matplotlib inline\n",
    "sns.set(style='dark')"
   ]
  },
  {
   "cell_type": "code",
   "execution_count": 111,
   "id": "72da259c",
   "metadata": {},
   "outputs": [],
   "source": [
    "def annotate(axes:Union[np.ndarray, plt.Axes]):\n",
    "    '''\n",
    "    annotate a singular ax or a matrix of subplots ax\n",
    "    inputs: \n",
    "        axes: singular matplotlib.pyplot ax or a matrix or ax\n",
    "    '''\n",
    "    def _annotate(ax: plt.Axes):\n",
    "        for p in ax.patches:\n",
    "\n",
    "            # establish text position\n",
    "            _horizontal_position = p.get_x() + p.get_width() / 2\n",
    "            _vertical_position = p.get_y() + p.get_height() / 2\n",
    "\n",
    "            # define the value to add to the graph\n",
    "            value = f'{int(p.get_height())}' \n",
    "\n",
    "            # add text\n",
    "            ax.text(_horizontal_position, _vertical_position, value,  ha=\"center\", fontsize=12) \n",
    "            pass\n",
    "    \n",
    "    if isinstance(axes, np.ndarray):\n",
    "        for _, ax in np.ndenumerate(axes):\n",
    "            _annotate(ax)\n",
    "    else:\n",
    "        _annotate(axes)\n",
    "    pass\n",
    "\n",
    "\n",
    "def test_hypothesis(alpha: float, pvalue: float) -> str:\n",
    "    '''\n",
    "    returns whether to reject or not reject an hypothesis.\n",
    "    inputs:\n",
    "        alpha: string, level of confidence (probability of rejecting the null hypothesis when in fact it is true)\n",
    "        pvalue: string, probability of getting a more extreme value when the null hypothesis is true.\n",
    "    '''\n",
    "    if pvalue > alpha:\n",
    "        return 'Fail to reject hypothesis'\n",
    "    else:\n",
    "        return 'Reject hypothesis'"
   ]
  },
  {
   "cell_type": "code",
   "execution_count": 93,
   "id": "87e9f234",
   "metadata": {},
   "outputs": [],
   "source": [
    "RAW_PATH = '../data/raw/student-mat.csv'\n",
    "raw = pd.read_csv(RAW_PATH, sep=';')\n",
    "processed = raw.copy(deep=True)\n",
    "\n",
    "# create a figures folders if it doesn't exist\n",
    "os.chdir('..') # change cwd to root\n",
    "cwd = os.getcwd()\n",
    "figures = os.path.join(cwd, 'figures')\n",
    "\n",
    "if not os.path.exists(figures):\n",
    "    os.makedirs('figures')\n",
    "    \n",
    "os.chdir('notebooks') # change the current working directory back to the notebooks folder"
   ]
  },
  {
   "cell_type": "code",
   "execution_count": 5,
   "id": "b2f1e48f",
   "metadata": {},
   "outputs": [
    {
     "data": {
      "text/html": [
       "<div>\n",
       "<style scoped>\n",
       "    .dataframe tbody tr th:only-of-type {\n",
       "        vertical-align: middle;\n",
       "    }\n",
       "\n",
       "    .dataframe tbody tr th {\n",
       "        vertical-align: top;\n",
       "    }\n",
       "\n",
       "    .dataframe thead th {\n",
       "        text-align: right;\n",
       "    }\n",
       "</style>\n",
       "<table border=\"1\" class=\"dataframe\">\n",
       "  <thead>\n",
       "    <tr style=\"text-align: right;\">\n",
       "      <th></th>\n",
       "      <th>school</th>\n",
       "      <th>sex</th>\n",
       "      <th>age</th>\n",
       "      <th>address</th>\n",
       "      <th>famsize</th>\n",
       "      <th>Pstatus</th>\n",
       "      <th>Medu</th>\n",
       "      <th>Fedu</th>\n",
       "      <th>Mjob</th>\n",
       "      <th>Fjob</th>\n",
       "      <th>...</th>\n",
       "      <th>famrel</th>\n",
       "      <th>freetime</th>\n",
       "      <th>goout</th>\n",
       "      <th>Dalc</th>\n",
       "      <th>Walc</th>\n",
       "      <th>health</th>\n",
       "      <th>absences</th>\n",
       "      <th>G1</th>\n",
       "      <th>G2</th>\n",
       "      <th>G3</th>\n",
       "    </tr>\n",
       "  </thead>\n",
       "  <tbody>\n",
       "    <tr>\n",
       "      <th>0</th>\n",
       "      <td>GP</td>\n",
       "      <td>F</td>\n",
       "      <td>18</td>\n",
       "      <td>U</td>\n",
       "      <td>GT3</td>\n",
       "      <td>A</td>\n",
       "      <td>4</td>\n",
       "      <td>4</td>\n",
       "      <td>at_home</td>\n",
       "      <td>teacher</td>\n",
       "      <td>...</td>\n",
       "      <td>4</td>\n",
       "      <td>3</td>\n",
       "      <td>4</td>\n",
       "      <td>1</td>\n",
       "      <td>1</td>\n",
       "      <td>3</td>\n",
       "      <td>6</td>\n",
       "      <td>5</td>\n",
       "      <td>6</td>\n",
       "      <td>6</td>\n",
       "    </tr>\n",
       "    <tr>\n",
       "      <th>1</th>\n",
       "      <td>GP</td>\n",
       "      <td>F</td>\n",
       "      <td>17</td>\n",
       "      <td>U</td>\n",
       "      <td>GT3</td>\n",
       "      <td>T</td>\n",
       "      <td>1</td>\n",
       "      <td>1</td>\n",
       "      <td>at_home</td>\n",
       "      <td>other</td>\n",
       "      <td>...</td>\n",
       "      <td>5</td>\n",
       "      <td>3</td>\n",
       "      <td>3</td>\n",
       "      <td>1</td>\n",
       "      <td>1</td>\n",
       "      <td>3</td>\n",
       "      <td>4</td>\n",
       "      <td>5</td>\n",
       "      <td>5</td>\n",
       "      <td>6</td>\n",
       "    </tr>\n",
       "    <tr>\n",
       "      <th>2</th>\n",
       "      <td>GP</td>\n",
       "      <td>F</td>\n",
       "      <td>15</td>\n",
       "      <td>U</td>\n",
       "      <td>LE3</td>\n",
       "      <td>T</td>\n",
       "      <td>1</td>\n",
       "      <td>1</td>\n",
       "      <td>at_home</td>\n",
       "      <td>other</td>\n",
       "      <td>...</td>\n",
       "      <td>4</td>\n",
       "      <td>3</td>\n",
       "      <td>2</td>\n",
       "      <td>2</td>\n",
       "      <td>3</td>\n",
       "      <td>3</td>\n",
       "      <td>10</td>\n",
       "      <td>7</td>\n",
       "      <td>8</td>\n",
       "      <td>10</td>\n",
       "    </tr>\n",
       "    <tr>\n",
       "      <th>3</th>\n",
       "      <td>GP</td>\n",
       "      <td>F</td>\n",
       "      <td>15</td>\n",
       "      <td>U</td>\n",
       "      <td>GT3</td>\n",
       "      <td>T</td>\n",
       "      <td>4</td>\n",
       "      <td>2</td>\n",
       "      <td>health</td>\n",
       "      <td>services</td>\n",
       "      <td>...</td>\n",
       "      <td>3</td>\n",
       "      <td>2</td>\n",
       "      <td>2</td>\n",
       "      <td>1</td>\n",
       "      <td>1</td>\n",
       "      <td>5</td>\n",
       "      <td>2</td>\n",
       "      <td>15</td>\n",
       "      <td>14</td>\n",
       "      <td>15</td>\n",
       "    </tr>\n",
       "    <tr>\n",
       "      <th>4</th>\n",
       "      <td>GP</td>\n",
       "      <td>F</td>\n",
       "      <td>16</td>\n",
       "      <td>U</td>\n",
       "      <td>GT3</td>\n",
       "      <td>T</td>\n",
       "      <td>3</td>\n",
       "      <td>3</td>\n",
       "      <td>other</td>\n",
       "      <td>other</td>\n",
       "      <td>...</td>\n",
       "      <td>4</td>\n",
       "      <td>3</td>\n",
       "      <td>2</td>\n",
       "      <td>1</td>\n",
       "      <td>2</td>\n",
       "      <td>5</td>\n",
       "      <td>4</td>\n",
       "      <td>6</td>\n",
       "      <td>10</td>\n",
       "      <td>10</td>\n",
       "    </tr>\n",
       "  </tbody>\n",
       "</table>\n",
       "<p>5 rows × 33 columns</p>\n",
       "</div>"
      ],
      "text/plain": [
       "  school sex  age address famsize Pstatus  Medu  Fedu     Mjob      Fjob  ...  \\\n",
       "0     GP   F   18       U     GT3       A     4     4  at_home   teacher  ...   \n",
       "1     GP   F   17       U     GT3       T     1     1  at_home     other  ...   \n",
       "2     GP   F   15       U     LE3       T     1     1  at_home     other  ...   \n",
       "3     GP   F   15       U     GT3       T     4     2   health  services  ...   \n",
       "4     GP   F   16       U     GT3       T     3     3    other     other  ...   \n",
       "\n",
       "  famrel freetime  goout  Dalc  Walc health absences  G1  G2  G3  \n",
       "0      4        3      4     1     1      3        6   5   6   6  \n",
       "1      5        3      3     1     1      3        4   5   5   6  \n",
       "2      4        3      2     2     3      3       10   7   8  10  \n",
       "3      3        2      2     1     1      5        2  15  14  15  \n",
       "4      4        3      2     1     2      5        4   6  10  10  \n",
       "\n",
       "[5 rows x 33 columns]"
      ]
     },
     "execution_count": 5,
     "metadata": {},
     "output_type": "execute_result"
    }
   ],
   "source": [
    "raw.head()"
   ]
  },
  {
   "cell_type": "code",
   "execution_count": 6,
   "id": "60dff17a",
   "metadata": {
    "collapsed": true
   },
   "outputs": [
    {
     "name": "stdout",
     "output_type": "stream",
     "text": [
      "<class 'pandas.core.frame.DataFrame'>\n",
      "RangeIndex: 395 entries, 0 to 394\n",
      "Data columns (total 33 columns):\n",
      " #   Column      Non-Null Count  Dtype \n",
      "---  ------      --------------  ----- \n",
      " 0   school      395 non-null    object\n",
      " 1   sex         395 non-null    object\n",
      " 2   age         395 non-null    int64 \n",
      " 3   address     395 non-null    object\n",
      " 4   famsize     395 non-null    object\n",
      " 5   Pstatus     395 non-null    object\n",
      " 6   Medu        395 non-null    int64 \n",
      " 7   Fedu        395 non-null    int64 \n",
      " 8   Mjob        395 non-null    object\n",
      " 9   Fjob        395 non-null    object\n",
      " 10  reason      395 non-null    object\n",
      " 11  guardian    395 non-null    object\n",
      " 12  traveltime  395 non-null    int64 \n",
      " 13  studytime   395 non-null    int64 \n",
      " 14  failures    395 non-null    int64 \n",
      " 15  schoolsup   395 non-null    object\n",
      " 16  famsup      395 non-null    object\n",
      " 17  paid        395 non-null    object\n",
      " 18  activities  395 non-null    object\n",
      " 19  nursery     395 non-null    object\n",
      " 20  higher      395 non-null    object\n",
      " 21  internet    395 non-null    object\n",
      " 22  romantic    395 non-null    object\n",
      " 23  famrel      395 non-null    int64 \n",
      " 24  freetime    395 non-null    int64 \n",
      " 25  goout       395 non-null    int64 \n",
      " 26  Dalc        395 non-null    int64 \n",
      " 27  Walc        395 non-null    int64 \n",
      " 28  health      395 non-null    int64 \n",
      " 29  absences    395 non-null    int64 \n",
      " 30  G1          395 non-null    int64 \n",
      " 31  G2          395 non-null    int64 \n",
      " 32  G3          395 non-null    int64 \n",
      "dtypes: int64(16), object(17)\n",
      "memory usage: 102.0+ KB\n"
     ]
    }
   ],
   "source": [
    "raw.info()"
   ]
  },
  {
   "cell_type": "markdown",
   "id": "632ecea0",
   "metadata": {},
   "source": [
    "* There are 395 students in the dataset\n",
    "* There are no missing values in the dataset\n",
    "* There are no missing values in the dataset"
   ]
  },
  {
   "cell_type": "code",
   "execution_count": 7,
   "id": "5521b418",
   "metadata": {},
   "outputs": [
    {
     "data": {
      "text/html": [
       "<div>\n",
       "<style scoped>\n",
       "    .dataframe tbody tr th:only-of-type {\n",
       "        vertical-align: middle;\n",
       "    }\n",
       "\n",
       "    .dataframe tbody tr th {\n",
       "        vertical-align: top;\n",
       "    }\n",
       "\n",
       "    .dataframe thead th {\n",
       "        text-align: right;\n",
       "    }\n",
       "</style>\n",
       "<table border=\"1\" class=\"dataframe\">\n",
       "  <thead>\n",
       "    <tr style=\"text-align: right;\">\n",
       "      <th></th>\n",
       "      <th>count</th>\n",
       "      <th>mean</th>\n",
       "      <th>std</th>\n",
       "      <th>min</th>\n",
       "      <th>25%</th>\n",
       "      <th>50%</th>\n",
       "      <th>75%</th>\n",
       "      <th>max</th>\n",
       "    </tr>\n",
       "  </thead>\n",
       "  <tbody>\n",
       "    <tr>\n",
       "      <th>G1</th>\n",
       "      <td>395.0</td>\n",
       "      <td>10.908861</td>\n",
       "      <td>3.319195</td>\n",
       "      <td>3.0</td>\n",
       "      <td>8.0</td>\n",
       "      <td>11.0</td>\n",
       "      <td>13.0</td>\n",
       "      <td>19.0</td>\n",
       "    </tr>\n",
       "    <tr>\n",
       "      <th>G2</th>\n",
       "      <td>395.0</td>\n",
       "      <td>10.713924</td>\n",
       "      <td>3.761505</td>\n",
       "      <td>0.0</td>\n",
       "      <td>9.0</td>\n",
       "      <td>11.0</td>\n",
       "      <td>13.0</td>\n",
       "      <td>19.0</td>\n",
       "    </tr>\n",
       "    <tr>\n",
       "      <th>G3</th>\n",
       "      <td>395.0</td>\n",
       "      <td>10.415190</td>\n",
       "      <td>4.581443</td>\n",
       "      <td>0.0</td>\n",
       "      <td>8.0</td>\n",
       "      <td>11.0</td>\n",
       "      <td>14.0</td>\n",
       "      <td>20.0</td>\n",
       "    </tr>\n",
       "  </tbody>\n",
       "</table>\n",
       "</div>"
      ],
      "text/plain": [
       "    count       mean       std  min  25%   50%   75%   max\n",
       "G1  395.0  10.908861  3.319195  3.0  8.0  11.0  13.0  19.0\n",
       "G2  395.0  10.713924  3.761505  0.0  9.0  11.0  13.0  19.0\n",
       "G3  395.0  10.415190  4.581443  0.0  8.0  11.0  14.0  20.0"
      ]
     },
     "execution_count": 7,
     "metadata": {},
     "output_type": "execute_result"
    }
   ],
   "source": [
    "target_columns = ['G1', 'G2', 'G3']\n",
    "raw[target_columns].describe().T"
   ]
  },
  {
   "cell_type": "code",
   "execution_count": 8,
   "id": "0589731b",
   "metadata": {},
   "outputs": [
    {
     "data": {
      "image/png": "[encoded data removed]",
      "text/plain": [
       "<Figure size 504x360 with 1 Axes>"
      ]
     },
     "metadata": {},
     "output_type": "display_data"
    }
   ],
   "source": [
    "# look at the distribution of students between the schools\n",
    "plt.figure(figsize=(7, 5))\n",
    "ax = sns.countplot(data=raw, x='school')\n",
    "ax.set_title('Number of students by School')\n",
    "\n",
    "# annotate the figure\n",
    "annotate(ax)\n",
    "plt.show()"
   ]
  },
  {
   "cell_type": "markdown",
   "id": "5eb33a6e",
   "metadata": {},
   "source": [
    "* Gabriel Pereira school is represented 7~ times more than Mousinho da Silveira."
   ]
  },
  {
   "cell_type": "markdown",
   "id": "5474349b",
   "metadata": {},
   "source": [
    "## Does Gender Affect the Final Grade"
   ]
  },
  {
   "cell_type": "code",
   "execution_count": 32,
   "id": "74a3043b",
   "metadata": {},
   "outputs": [],
   "source": [
    "girls = raw.loc[raw['sex'] == 'F']\n",
    "boys = raw.loc[raw['sex'] != 'F']"
   ]
  },
  {
   "cell_type": "code",
   "execution_count": 103,
   "id": "47f79c56",
   "metadata": {},
   "outputs": [
    {
     "data": {
      "text/html": [
       "<div>\n",
       "<style scoped>\n",
       "    .dataframe tbody tr th:only-of-type {\n",
       "        vertical-align: middle;\n",
       "    }\n",
       "\n",
       "    .dataframe tbody tr th {\n",
       "        vertical-align: top;\n",
       "    }\n",
       "\n",
       "    .dataframe thead th {\n",
       "        text-align: right;\n",
       "    }\n",
       "</style>\n",
       "<table border=\"1\" class=\"dataframe\">\n",
       "  <thead>\n",
       "    <tr style=\"text-align: right;\">\n",
       "      <th></th>\n",
       "      <th>First Semester</th>\n",
       "      <th>Second Semester</th>\n",
       "      <th>Final</th>\n",
       "    </tr>\n",
       "    <tr>\n",
       "      <th>sex</th>\n",
       "      <th></th>\n",
       "      <th></th>\n",
       "      <th></th>\n",
       "    </tr>\n",
       "  </thead>\n",
       "  <tbody>\n",
       "    <tr>\n",
       "      <th>F</th>\n",
       "      <td>10.620192</td>\n",
       "      <td>10.389423</td>\n",
       "      <td>9.966346</td>\n",
       "    </tr>\n",
       "    <tr>\n",
       "      <th>M</th>\n",
       "      <td>11.229947</td>\n",
       "      <td>11.074866</td>\n",
       "      <td>10.914439</td>\n",
       "    </tr>\n",
       "  </tbody>\n",
       "</table>\n",
       "</div>"
      ],
      "text/plain": [
       "     First Semester  Second Semester      Final\n",
       "sex                                            \n",
       "F         10.620192        10.389423   9.966346\n",
       "M         11.229947        11.074866  10.914439"
      ]
     },
     "execution_count": 103,
     "metadata": {},
     "output_type": "execute_result"
    }
   ],
   "source": [
    "raw.groupby('sex').agg({'G1': 'mean', 'G2': 'mean', 'G3': 'mean'}).rename(columns={\n",
    "    'G1': 'First Semester',\n",
    "    'G2': 'Second Semester',\n",
    "    'G3': 'Final'\n",
    "})"
   ]
  },
  {
   "cell_type": "code",
   "execution_count": 99,
   "id": "332718b6",
   "metadata": {},
   "outputs": [
    {
     "data": {
      "image/png": "[encoded data removed]",
      "text/plain": [
       "<Figure size 864x360 with 2 Axes>"
      ]
     },
     "metadata": {},
     "output_type": "display_data"
    }
   ],
   "source": [
    "# look at the grade distribution between genders\n",
    "fig, ax = plt.subplots(1, 2, figsize=(12, 5), sharey=True)\n",
    "ax = ax.ravel()\n",
    "\n",
    "# add girls final grade histogram to figure\n",
    "sns.histplot(data=girls, x='G3', ax=ax[0])\n",
    "ax[0].set_title('Female Students Grade Distribution')\n",
    "ax[0].set_xlabel('Final Math Grade')\n",
    "\n",
    "# add boys final grade histogram to figure\n",
    "sns.histplot(data=boys, x='G3', ax=ax[1])\n",
    "ax[1].set_title('Male Students Grade Distribution')\n",
    "ax[1].set_xlabel('Final Math Grade')\n",
    "\n",
    "# annotate the figure\n",
    "annotate(ax)\n",
    "plt.tight_layout()\n",
    "plt.savefig('../figures/gender_separeated_grade_hist.jpg')"
   ]
  },
  {
   "cell_type": "code",
   "execution_count": 100,
   "id": "656796cb",
   "metadata": {},
   "outputs": [
    {
     "data": {
      "image/png": "[encoded data removed]",
      "text/plain": [
       "<Figure size 504x432 with 1 Axes>"
      ]
     },
     "metadata": {},
     "output_type": "display_data"
    }
   ],
   "source": [
    "plt.figure(figsize=(7, 6))\n",
    "ax = sns.boxplot(data=raw, x='sex', y='G3')\n",
    "\n",
    "# update the labels\n",
    "ax.set_title('Girls and Boys Final Grade Boxplots')\n",
    "ax.set_xticklabels(['Female', 'Male'])\n",
    "ax.set_ylabel('Final Grade [0 - 20]')\n",
    "ax.set_xlabel('')\n",
    "\n",
    "plt.tight_layout()\n",
    "plt.savefig('../figures/gender_separeated_grade_boxplot.jpg')"
   ]
  },
  {
   "cell_type": "markdown",
   "id": "ff97a7ef",
   "metadata": {},
   "source": [
    "### Are boys in these schools better than girls at math?\n",
    "\n",
    "#### Possible Tests:\n",
    "1. _T Test_ (parametric)\n",
    "    - Population distributions are normal.\n",
    "    - Samples have equal variances.\n",
    "    - The two samples are independent.\n",
    "    \n",
    "    \n",
    "2. _Mann-Whitney_ (non-parametric)\n",
    "    - Observation is in one group or the other (it cannot be in both).\n",
    "    - Ordinal measurement scale is assumed."
   ]
  },
  {
   "cell_type": "markdown",
   "id": "2834cbea",
   "metadata": {},
   "source": [
    "#### Testing Assumptions\n",
    "\n",
    "* Variance\n",
    "* Independence\n",
    "* Normality"
   ]
  },
  {
   "cell_type": "markdown",
   "id": "5c611c3d",
   "metadata": {},
   "source": [
    "##### Variance Assumption\n",
    "\n",
    "Levene's Homogeneity of Variances\n",
    "* Null hypothesis: Equal population variances"
   ]
  },
  {
   "cell_type": "code",
   "execution_count": 120,
   "id": "eac038a3",
   "metadata": {},
   "outputs": [
    {
     "data": {
      "text/plain": [
       "'Fail to reject hypothesis'"
      ]
     },
     "execution_count": 120,
     "metadata": {},
     "output_type": "execute_result"
    }
   ],
   "source": [
    "ALPHA = 0.05\n",
    "levene_stat, levene_pvalue = sps.levene(\n",
    "    girls['G3'],\n",
    "    boys['G3'],\n",
    "    center= 'mean'\n",
    ")\n",
    "\n",
    "test_hypothesis(ALPHA, levene_pvalue)"
   ]
  },
  {
   "cell_type": "markdown",
   "id": "0b40234b",
   "metadata": {},
   "source": [
    "##### Normality Assumption\n",
    "\n",
    "Shapiro-Wilk \n",
    "  * Null hypothesis: Sample is normally distributed"
   ]
  },
  {
   "cell_type": "code",
   "execution_count": 119,
   "id": "7bfb4948",
   "metadata": {},
   "outputs": [
    {
     "name": "stdout",
     "output_type": "stream",
     "text": [
      "Girls: Reject hypothesis\n",
      "Boys: Reject hypothesis\n"
     ]
    }
   ],
   "source": [
    "f_stat, f_pvalue = sps.shapiro(girls_math['G3'])\n",
    "m_stat, m_pvalue = sps.shapiro(boys_math['G3'])\n",
    "\n",
    "print('Girls:', test_hypothesis(ALPHA, f_pvalue))\n",
    "print('Boys:', test_hypothesis(ALPHA, m_pvalue))"
   ]
  },
  {
   "cell_type": "markdown",
   "id": "29ca59ee",
   "metadata": {},
   "source": [
    "The grades __do not meet__ the normality assumption. \\\n",
    "So, I will use Mann-Whitney to determine whether two independent samples are from a population with the same distribution. \\\n",
    "Since non of the observations repeat in both the male and female samples, the data meets Mann-Whitney's assumption of independence."
   ]
  },
  {
   "cell_type": "markdown",
   "id": "efc9432f",
   "metadata": {},
   "source": [
    "##### Do Girls Score Lower than Boys in Math?\n",
    "\n",
    "Mann-Whitney\n",
    "  * Null hypothesis: Same distribution. The median is the same between samples"
   ]
  },
  {
   "cell_type": "code",
   "execution_count": 129,
   "id": "923cd51d",
   "metadata": {},
   "outputs": [
    {
     "data": {
      "text/plain": [
       "'Reject hypothesis'"
      ]
     },
     "execution_count": 129,
     "metadata": {},
     "output_type": "execute_result"
    }
   ],
   "source": [
    "# test the distributions of underlying samples\n",
    "U, mann_pvalue = sps.mannwhitneyu(girls['G3'], boys['G3'], alternative='less')\n",
    "\n",
    "# H0: girls do not score lower than boys in math\n",
    "test_hypothesis(ALPHA, mann_pvalue)"
   ]
  },
  {
   "cell_type": "code",
   "execution_count": 135,
   "id": "9190cb1d",
   "metadata": {},
   "outputs": [
    {
     "data": {
      "text/markdown": [
       "\n",
       "    In the schools, Gabriel Pereira and Mousinho da Silveira\n",
       "    the median final math grade for Females and Males were 10.0 and 11.0, respectively. \n",
       "    The distributions in the two groups differed significantly.\n",
       "        - Mann–Whitney (U) = 17138.0, \n",
       "        - Number of females = 208,\n",
       "        - Number of males = 187,\n",
       "        - 0.020326513846277473 < 0.05)\n"
      ],
      "text/plain": [
       "<IPython.core.display.Markdown object>"
      ]
     },
     "execution_count": 135,
     "metadata": {},
     "output_type": "execute_result"
    }
   ],
   "source": [
    "from IPython.display import Markdown as md\n",
    "girls_median, boys_median = girls['G3'].median(), boys['G3'].median()\n",
    "n_girls, n_boys = len(girls['G3']), len(boys['G3'])\n",
    "\n",
    "md(f'''\n",
    "    In the schools, Gabriel Pereira and Mousinho da Silveira\n",
    "    the median final math grade for Females and Males were {girls_median} and {boys_median}, respectively. \n",
    "    The distributions in the two groups differed significantly.\n",
    "        - Mann–Whitney (U) = {U}, \n",
    "        - Number of females = {n_girls},\n",
    "        - Number of males = {n_boys},\n",
    "        - {mann_pvalue} < 0.05)\n",
    "''')"
   ]
  },
  {
   "cell_type": "code",
   "execution_count": 53,
   "id": "d5dd19cc",
   "metadata": {},
   "outputs": [
    {
     "data": {
      "image/png": "[encoded data removed]",
      "text/plain": [
       "<Figure size 1080x360 with 3 Axes>"
      ]
     },
     "metadata": {},
     "output_type": "display_data"
    }
   ],
   "source": [
    "# look at the grade distribution among those with after school activities\n",
    "fig, ax = plt.subplots(1, 3, figsize=(15, 5))\n",
    "\n",
    "ax = ax.ravel()\n",
    "for i in range(3):\n",
    "    sns.histplot(data=raw, x=target_columns[i], hue='activities', ax=ax[i], alpha=0.7)"
   ]
  },
  {
   "cell_type": "markdown",
   "id": "224835c6",
   "metadata": {},
   "source": [
    "* Do children that have afterschool acitivties do better at math?"
   ]
  },
  {
   "cell_type": "code",
   "execution_count": 54,
   "id": "72ca10b6",
   "metadata": {},
   "outputs": [
    {
     "data": {
      "text/html": [
       "<div>\n",
       "<style scoped>\n",
       "    .dataframe tbody tr th:only-of-type {\n",
       "        vertical-align: middle;\n",
       "    }\n",
       "\n",
       "    .dataframe tbody tr th {\n",
       "        vertical-align: top;\n",
       "    }\n",
       "\n",
       "    .dataframe thead th {\n",
       "        text-align: right;\n",
       "    }\n",
       "</style>\n",
       "<table border=\"1\" class=\"dataframe\">\n",
       "  <thead>\n",
       "    <tr style=\"text-align: right;\">\n",
       "      <th></th>\n",
       "      <th>G1</th>\n",
       "      <th>G2</th>\n",
       "      <th>G3</th>\n",
       "    </tr>\n",
       "    <tr>\n",
       "      <th>activities</th>\n",
       "      <th></th>\n",
       "      <th></th>\n",
       "      <th></th>\n",
       "    </tr>\n",
       "  </thead>\n",
       "  <tbody>\n",
       "    <tr>\n",
       "      <th>no</th>\n",
       "      <td>10.716495</td>\n",
       "      <td>10.520619</td>\n",
       "      <td>10.340206</td>\n",
       "    </tr>\n",
       "    <tr>\n",
       "      <th>yes</th>\n",
       "      <td>11.094527</td>\n",
       "      <td>10.900498</td>\n",
       "      <td>10.487562</td>\n",
       "    </tr>\n",
       "  </tbody>\n",
       "</table>\n",
       "</div>"
      ],
      "text/plain": [
       "                   G1         G2         G3\n",
       "activities                                 \n",
       "no          10.716495  10.520619  10.340206\n",
       "yes         11.094527  10.900498  10.487562"
      ]
     },
     "execution_count": 54,
     "metadata": {},
     "output_type": "execute_result"
    }
   ],
   "source": [
    "raw.groupby('activities').agg({'G1': 'mean', 'G2': 'mean', 'G3': 'mean'})"
   ]
  },
  {
   "cell_type": "code",
   "execution_count": 55,
   "id": "dc790655",
   "metadata": {},
   "outputs": [
    {
     "data": {
      "text/html": [
       "<div>\n",
       "<style scoped>\n",
       "    .dataframe tbody tr th:only-of-type {\n",
       "        vertical-align: middle;\n",
       "    }\n",
       "\n",
       "    .dataframe tbody tr th {\n",
       "        vertical-align: top;\n",
       "    }\n",
       "\n",
       "    .dataframe thead th {\n",
       "        text-align: right;\n",
       "    }\n",
       "</style>\n",
       "<table border=\"1\" class=\"dataframe\">\n",
       "  <thead>\n",
       "    <tr style=\"text-align: right;\">\n",
       "      <th></th>\n",
       "      <th>G1</th>\n",
       "      <th>G2</th>\n",
       "      <th>G3</th>\n",
       "    </tr>\n",
       "    <tr>\n",
       "      <th>activities</th>\n",
       "      <th></th>\n",
       "      <th></th>\n",
       "      <th></th>\n",
       "    </tr>\n",
       "  </thead>\n",
       "  <tbody>\n",
       "    <tr>\n",
       "      <th>no</th>\n",
       "      <td>11</td>\n",
       "      <td>11</td>\n",
       "      <td>11</td>\n",
       "    </tr>\n",
       "    <tr>\n",
       "      <th>yes</th>\n",
       "      <td>11</td>\n",
       "      <td>11</td>\n",
       "      <td>11</td>\n",
       "    </tr>\n",
       "  </tbody>\n",
       "</table>\n",
       "</div>"
      ],
      "text/plain": [
       "            G1  G2  G3\n",
       "activities            \n",
       "no          11  11  11\n",
       "yes         11  11  11"
      ]
     },
     "execution_count": 55,
     "metadata": {},
     "output_type": "execute_result"
    }
   ],
   "source": [
    "raw.groupby('activities').agg({'G1': 'median', 'G2': 'median', 'G3': 'median'})"
   ]
  },
  {
   "cell_type": "markdown",
   "id": "68233561",
   "metadata": {},
   "source": [
    "## Preparing Data for Modeling\n",
    "\n",
    "    1. Binary Indicators"
   ]
  },
  {
   "cell_type": "code",
   "execution_count": 39,
   "id": "eab24616",
   "metadata": {},
   "outputs": [],
   "source": [
    "binary_columns = [\n",
    "    'schoolsup', 'famsup', 'paid', 'activities', \n",
    "    'nursery', 'higher', 'internet', 'romantic'\n",
    "]\n",
    "\n",
    "binary = lambda x: 1 if x == 'yes'else 0\n",
    "\n",
    "# convert assigned sex at birth to binary indicator\n",
    "processed['sex'] = raw['sex'].map(lambda sex: binary(sex))\n",
    "\n",
    "# convert additional school support to binary indicator\n",
    "processed['schoolsup'] = raw['schoolsup'].map(lambda status: binary(status))\n",
    "\n",
    "# convert additional parental support to binary indicator\n",
    "processed['famsup'] = raw['famsup'].map(lambda family: binary(family))\n",
    "\n",
    "# convert additional paid support to binary indicator\n",
    "processed['paid'] = raw['paid'].map(lambda paid: binary(paid))\n",
    "\n",
    "# convert after school activities to binary indicator\n",
    "processed['activities'] = raw['activities'].map(lambda activity: binary(activity))\n",
    "\n",
    "# convert attendance at nursary school to binary indicator\n",
    "processed['nursery'] = raw['nursery'].map(lambda nursery: binary(nursery))\n",
    "\n",
    "# convert aspiration towards higher education to binary indicator\n",
    "processed['higher'] = raw['higher'].map(lambda higher: binary(higher))\n",
    "\n",
    "# convert access to internet at home to binary indicator\n",
    "processed['internet'] = raw['internet'].map(lambda internet: binary(internet))\n",
    "\n",
    "# convert romantic relationship to binary indicator\n",
    "processed['romantic'] = raw['romantic'].map(lambda romantic: binary(romantic))\n",
    "\n",
    "# convert parental cohabitation status to binray indicator\n",
    "processed['divorced'] = raw['Pstatus'].map(lambda status: 1 if status.lower() == 'a' else 0)\n",
    "processed = processed.drop('Pstatus', axis=1)\n",
    "\n",
    "# convert address to urban living indidactor\n",
    "processed['urban'] = raw['address'].map(lambda address: 1 if address.lower() == 'u' else 0)\n",
    "processed = processed.drop('address', axis=1)\n",
    "\n",
    "# convert family size to small family indicator\n",
    "processed['smallfam'] = raw['famsize'].map(lambda address: 1 if address.lower() == 'le3' else 0)\n",
    "processed = processed.drop('famsize', axis=1)"
   ]
  },
  {
   "cell_type": "code",
   "execution_count": null,
   "id": "61888d9e",
   "metadata": {},
   "outputs": [],
   "source": []
  }
 ],
 "metadata": {
  "kernelspec": {
   "display_name": "Python 3",
   "language": "python",
   "name": "python3"
  },
  "language_info": {
   "codemirror_mode": {
    "name": "ipython",
    "version": 3
   },
   "file_extension": ".py",
   "mimetype": "text/x-python",
   "name": "python",
   "nbconvert_exporter": "python",
   "pygments_lexer": "ipython3",
   "version": "3.7.4"
  }
 },
 "nbformat": 4,
 "nbformat_minor": 5
}
